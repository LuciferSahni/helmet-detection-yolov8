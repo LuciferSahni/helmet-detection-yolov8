{
 "cells": [
  {
   "cell_type": "code",
   "execution_count": null,
   "metadata": {},
   "outputs": [],
   "source": [
    "# 🔧 Step 1: Install ultralytics (YOLOv8)\n",
    "!pip install ultralytics\n",
    "\n",
    "# 📁 Step 2: Upload Dataset Zip\n",
    "from google.colab import files\n",
    "uploaded = files.upload()\n",
    "\n",
    "# 📦 Step 3: Unzip the dataset\n",
    "import zipfile\n",
    "import os\n",
    "\n",
    "zip_name = list(uploaded.keys())[0]\n",
    "with zipfile.ZipFile(zip_name, 'r') as zip_ref:\n",
    "    zip_ref.extractall('bike_helmet_dataset')\n",
    "\n",
    "%cd bike_helmet_dataset\n",
    "\n",
    "# 🚀 Step 4: Train YOLOv8 Nano (fastest model)\n",
    "from ultralytics import YOLO\n",
    "\n",
    "model = YOLO('yolov8n.pt')\n",
    "\n",
    "model.train(\n",
    "    data='data.yaml',\n",
    "    epochs=10,\n",
    "    imgsz=640,\n",
    "    batch=8\n",
    ")\n",
    "\n",
    "# 🔍 Step 5: Run inference on test images\n",
    "results = model.predict(source='test/images', save=True, conf=0.25)\n",
    "\n",
    "# 📂 Step 6: View predictions in 'runs/detect/predict' folder"
   ]
  }
 ],
 "metadata": {
  "kernelspec": {
   "display_name": "Python 3",
   "language": "python",
   "name": "python3"
  },
  "language_info": {
   "name": "python",
   "version": "3.x"
  }
 },
 "nbformat": 4,
 "nbformat_minor": 2
}